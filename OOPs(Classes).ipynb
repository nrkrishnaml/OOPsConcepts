{
 "cells": [
  {
   "cell_type": "code",
   "execution_count": 1,
   "id": "aa1d3e31-1274-483a-8e74-83ad506203d8",
   "metadata": {},
   "outputs": [],
   "source": [
    "\"\"\"1: Bank Account Create a class representing a bank account with attributes like account number, \n",
    "account holder name, and balance. Implement methods to deposit and withdraw money from the account.\"\"\"\n",
    "\n",
    "#Defining class for banking details.\n",
    "class BankAccount():\n",
    "    #defining attributes with init constructor as global variables.\n",
    "    def __init__(self,Account_number,User_name,Balance):\n",
    "        self.acc_num = Account_number\n",
    "        self.name = User_name\n",
    "        self.balance = Balance\n",
    "        \n",
    "  #defining method to deposit money.\n",
    "    def deposit(self,deposit_amt):\n",
    "        \n",
    "        self.balance = self.balance + deposit_amt\n",
    "        print(\"Balance in your account after deposit\", self.balance)\n",
    "    #defining method to withdraw the money.\n",
    "    def withdraw(self , Wd):\n",
    "        \n",
    "        #checking if balance in account is less than withdral amount\n",
    "        if self.balance < Wd : \n",
    "            print(\"Your Bank Account does have sufficient funds\")   \n",
    "        else :\n",
    "            self.balance = self.balance - Wd\n",
    "            print(\"Remaining balance in your account after withdraw\", self.balance)\n",
    "        "
   ]
  },
  {
   "cell_type": "code",
   "execution_count": 3,
   "id": "65be4743-02b6-493c-bcd0-40499779dc44",
   "metadata": {},
   "outputs": [
    {
     "name": "stdout",
     "output_type": "stream",
     "text": [
      "Balance in your account after deposit 8777\n"
     ]
    }
   ],
   "source": [
    "B = BankAccount(1233,'Ramya',8765)\n",
    "B.deposit(12)\n"
   ]
  },
  {
   "cell_type": "code",
   "execution_count": 4,
   "id": "a738e40b-a44e-4b14-ae86-4f3ada124873",
   "metadata": {},
   "outputs": [
    {
     "name": "stdout",
     "output_type": "stream",
     "text": [
      "Your Bank Account does have sufficient funds\n"
     ]
    }
   ],
   "source": [
    "B.withdraw(9000)"
   ]
  },
  {
   "cell_type": "code",
   "execution_count": 5,
   "id": "8d1a93ad-7270-4df2-a1e3-b7017182ef7b",
   "metadata": {},
   "outputs": [
    {
     "name": "stdout",
     "output_type": "stream",
     "text": [
      "Remaining balance in your account after withdraw 6777\n"
     ]
    }
   ],
   "source": [
    "B.withdraw(2000)"
   ]
  },
  {
   "cell_type": "code",
   "execution_count": 23,
   "id": "17af840a-1190-4a0e-9672-55e647ca1734",
   "metadata": {},
   "outputs": [],
   "source": [
    "\"\"\"2.Employee Management Create a class representing an employee with attributes like employee ID, \n",
    "name, and salary. Implement methods to calculate the yearly bonus and display employee details.\"\"\"\n",
    "\n",
    "#defining class for employee details\n",
    "class EmployeeManagement():\n",
    "    ##defining attributes with init constructor as global variables\n",
    "    def __init__(self,Employee_id,Employee_name,Salary):\n",
    "    \n",
    "        self.emp_id = Employee_id\n",
    "        self.emp_name = Employee_name\n",
    "        self.salary = Salary\n",
    "    \n",
    "    #defining method to caluculate yearly bonus\n",
    "    def yearly_bonus(self):\n",
    "        \n",
    "        #if salary greater than 10k then employee is given 15% bonus\n",
    "        if self.salary >= 10000:\n",
    "            \n",
    "            bonus = self.salary*15\n",
    "            self.salary = self.salary + bonus\n",
    "            print(\"salary after adding yearly bonus is \",self.salary)\n",
    "        \n",
    "        #if salary is between 10k and 20k then employee is given 20% bonus\n",
    "        elif 10000>self.salary<=20000:\n",
    "        \n",
    "             bonus = self.salary*20\n",
    "             self.salary = self.salary + bonus\n",
    "             print(\"salary after adding yearly bonus is \",self.salary)\n",
    "          #remaining employees are given 30% bonus  \n",
    "        else :\n",
    "            bonus = self.salary*30\n",
    "            self.salary = self.salary + bonus\n",
    "            print(\"salary after adding yearly bonus is \",self.salary)\n",
    "    #defining method to define employee details        \n",
    "    def Emp_details(self):\n",
    "        \n",
    "        print(\"id \" , self.emp_id)\n",
    "        print(\"name \" ,self.emp_name)\n",
    "        print(\"salary\" , self.salary)\n",
    "            \n",
    "            "
   ]
  },
  {
   "cell_type": "code",
   "execution_count": 24,
   "id": "10d8409b-f648-499b-a67b-d2d1f8a295fe",
   "metadata": {},
   "outputs": [
    {
     "name": "stdout",
     "output_type": "stream",
     "text": [
      "id  1\n",
      "name  Ramya\n",
      "salary 50000\n",
      "salary after adding yearly bonus is  800000\n"
     ]
    }
   ],
   "source": [
    "e1 = EmployeeManagement(1,\"Ramya\",50000)\n",
    "e1.Emp_details()\n",
    "e1.yearly_bonus()"
   ]
  },
  {
   "cell_type": "code",
   "execution_count": 25,
   "id": "49faa0fb-0e1a-4c09-aba9-79760386a0b0",
   "metadata": {},
   "outputs": [
    {
     "name": "stdout",
     "output_type": "stream",
     "text": [
      "id  2\n",
      "name  Thishika\n",
      "salary 30000\n",
      "salary after adding yearly bonus is  480000\n"
     ]
    }
   ],
   "source": [
    "e2 = EmployeeManagement(2,\"Thishika\",30000)\n",
    "e2.Emp_details()\n",
    "e2.yearly_bonus()"
   ]
  },
  {
   "cell_type": "code",
   "execution_count": 65,
   "id": "d6ce28bc-6e2e-4f47-87af-8a332977075a",
   "metadata": {},
   "outputs": [],
   "source": [
    "\"\"\"3: Vehicle Rental Create a class representing a vehicle rental system. Implement methods to rent a vehicle, \n",
    "return a vehicle, and display available vehicles.\"\"\"\n",
    "\n",
    "#Defining class with vehicle rental details\n",
    "class VehicleRental():\n",
    "    \n",
    "     #defining attributes with init constructor as global variables\n",
    "    def __init__(self,car,bike,van):\n",
    "        \n",
    "        self.car_type = car\n",
    "        self.bike_type = bike\n",
    "        self.van_type = van\n",
    "    \n",
    "    #defining method to rent vehicle based on age,vehicle and rent\n",
    "    def rent_vehicle(self,age,vehicle,rent): \n",
    "        \n",
    "        #renting car if customer is has legal age to drive\n",
    "        if age>18:\n",
    "            print(\"Customer is eligible to drive\")\n",
    "            \n",
    "        else:\n",
    "            print(\"Customer is not eligible to drive car\")\n",
    "            \n",
    "    #checking for vehicles and rent\n",
    "        if vehicle == self.car_type:\n",
    "\n",
    "            if rent == 4000:\n",
    "                print(\"Car is available for rental\")\n",
    "            else :\n",
    "                print(\"Amount is not sufficient to rent a car\")\n",
    "\n",
    "        elif vehicle == self.bike_type:\n",
    "\n",
    "            if rent == 1000:\n",
    "                print(\"Bike is available for rental\")\n",
    "            else :\n",
    "                print(\"Amount is not sufficient to rent a bike\")\n",
    "\n",
    "        elif vehicle == self.van_type:\n",
    "\n",
    "            if rent == 8000:\n",
    "                print(\"van is available for rental\")\n",
    "            else :\n",
    "                print(\"Amount is not sufficient to rent a van\")\n",
    "\n",
    "    #defining method to return vehicles taken out on rent  \n",
    "            \n",
    "    def retun_vehicle(self,vehicle,days,rent):\n",
    "        \n",
    "        #Collecting rent based on days vehicle used\n",
    "            if vehicle in (self.car_type,self.bike_type,self.van_type):\n",
    "            \n",
    "                if days == 1:\n",
    "                    print(\"pay the remaining rent and return the vehicle\")\n",
    "                \n",
    "                elif 1>days<= 3:\n",
    "                    rent = rent + 1000\n",
    "                    print(\"pay the remaining rent and return the vehicle\")\n",
    "\n",
    "                else :\n",
    "                    rent = rent+5000\n",
    "                    print(\"pay the remaining rent and return the vehicle\")\n",
    "                    \n",
    "#defining method to display vehicles in the garage\n",
    "    def available_vehicles(self):\n",
    "            \n",
    "            print(\"car :\" , self.car_type)\n",
    "            print(\"bike :\", self.bike_type)\n",
    "            print(\"van :\" , self.van_type)\n",
    "        \n",
    "            \n",
    "                "
   ]
  },
  {
   "cell_type": "code",
   "execution_count": 66,
   "id": "bb2a16d1-34a5-4fc0-b7d4-8c7788a56fb0",
   "metadata": {},
   "outputs": [
    {
     "name": "stdout",
     "output_type": "stream",
     "text": [
      "car : XUV700\n",
      "bike : RoyalEnfield\n",
      "van : Eeco\n"
     ]
    }
   ],
   "source": [
    "gn = VehicleRental('XUV700','RoyalEnfield','Eeco')\n",
    "gn.available_vehicles()"
   ]
  },
  {
   "cell_type": "code",
   "execution_count": 51,
   "id": "e309d789-23d8-49a3-bec7-e2552a110f3d",
   "metadata": {},
   "outputs": [
    {
     "name": "stdout",
     "output_type": "stream",
     "text": [
      "pay the remaining rent and return the vehicle\n"
     ]
    }
   ],
   "source": [
    "gn.retun_vehicle('RoyalEnfield',2,4000)"
   ]
  },
  {
   "cell_type": "code",
   "execution_count": 67,
   "id": "74fd975e-e190-4011-a0d1-e0fff117466d",
   "metadata": {},
   "outputs": [
    {
     "name": "stdout",
     "output_type": "stream",
     "text": [
      "Customer is not eligible to drive car\n",
      "Amount is not sufficient to rent a van\n"
     ]
    }
   ],
   "source": [
    "gn.rent_vehicle(15,'Eeco',4000)"
   ]
  },
  {
   "cell_type": "code",
   "execution_count": 68,
   "id": "a6aecdd7-df2d-49d1-bbd8-0ef4e7bc6ae5",
   "metadata": {},
   "outputs": [
    {
     "name": "stdout",
     "output_type": "stream",
     "text": [
      "Customer is eligible to drive\n",
      "Amount is not sufficient to rent a van\n"
     ]
    }
   ],
   "source": [
    "gn.rent_vehicle(25,'Eeco',4000)"
   ]
  },
  {
   "cell_type": "code",
   "execution_count": 7,
   "id": "182e6fbc-6d65-4822-a79f-20136698ce51",
   "metadata": {},
   "outputs": [],
   "source": [
    "\"\"\"4. Library Catalog Create classes representing a library and a book. Implement methods to add books to the library, borrow books,\n",
    "and display available books.\"\"\"\n",
    "\n",
    "#Defining class for library catalog \n",
    "class LibraryCatalog():\n",
    "    \n",
    " #defining attributes with init constructor as global variables\n",
    "    def __init__(self,library,book1,book2,book3):\n",
    "        self.library = []\n",
    "        self.book1 = book1\n",
    "        self.book2 = book2\n",
    "        self.book3 = book3\n",
    "   #defining method to add books to the library     \n",
    "    def add_book(self,library,book):\n",
    "\n",
    "        if book not in self.library:\n",
    "            self.library = book\n",
    "            print(self.library ,\"Book is added to library\")    \n",
    "        else:\n",
    "            print(\"Book is already in library\")\n",
    "            \n",
    "    def display_books(self):\n",
    "        \n",
    "        print(\"book1 : \" , self.book1)\n",
    "        print(\"book2 : \" , self.book2)\n",
    "        print(\"book3 : \" , self.book3)\n",
    "        print(\"book4 : \",self.library)\n",
    "        "
   ]
  },
  {
   "cell_type": "code",
   "execution_count": 8,
   "id": "94656483-3bb1-4d34-92e9-eae578eb7b1c",
   "metadata": {},
   "outputs": [
    {
     "name": "stdout",
     "output_type": "stream",
     "text": [
      "AIML Book is added to library\n"
     ]
    }
   ],
   "source": [
    "lb = LibraryCatalog('public Library','Python','DSA','Big Data')\n",
    "lb.add_book('public Library','AIML')\n"
   ]
  },
  {
   "cell_type": "code",
   "execution_count": 9,
   "id": "da65ae05-6f69-4fcb-b300-137a91f97eed",
   "metadata": {},
   "outputs": [
    {
     "name": "stdout",
     "output_type": "stream",
     "text": [
      "book1 :  Python\n",
      "book2 :  DSA\n",
      "book3 :  Big Data\n",
      "book4 :  AIML\n",
      "Book is already in library\n"
     ]
    }
   ],
   "source": [
    "lb.display_books()\n",
    "lb.add_book('public Library','AIML')"
   ]
  },
  {
   "cell_type": "code",
   "execution_count": 67,
   "id": "ced59020-3b9b-41b7-8bc2-bd0e4548eff4",
   "metadata": {},
   "outputs": [],
   "source": [
    "\"\"\"5.Product Inventory Create classes representing a product and an inventory system. Implement methods to \n",
    "add products to the inventory, update product quantity, and display available products.\"\"\"\n",
    "\n",
    "#Defining class for Product Inventory\n",
    "class ProductInventory():\n",
    "     #defining attributes with init constructor as global variables\n",
    "    def __init__(self):\n",
    "        #defining product list as empty dictionary\n",
    "        self.prod_list = {}\n",
    "    \n",
    "    #defining class to add products to inventory\n",
    "    def add_prod(self,products):\n",
    "        self.prod_list.update({products:None}) \n",
    "        print(self.prod_list)\n",
    "     \n",
    " #defining class to update quantity of products in inventory\n",
    "    def updateprod(self,products,quantity):\n",
    "        self.prod_list[products] = quantity\n",
    "        print(self.prod_list)\n",
    "        \n",
    "    #defining class to print products in inventory\n",
    "    def prod(self):\n",
    "        for i in self.prod_list.items():\n",
    "            print(i)\n",
    "           "
   ]
  },
  {
   "cell_type": "code",
   "execution_count": 69,
   "id": "ca6b9caa-4e8d-434f-9322-a14abcfdc90d",
   "metadata": {},
   "outputs": [],
   "source": [
    "invpr = ProductInventory()"
   ]
  },
  {
   "cell_type": "code",
   "execution_count": 70,
   "id": "b1b9b205-735d-4e06-8ce9-1d7984a03220",
   "metadata": {},
   "outputs": [
    {
     "name": "stdout",
     "output_type": "stream",
     "text": [
      "{'pencils': None}\n"
     ]
    }
   ],
   "source": [
    "invpr.add_prod('pencils')"
   ]
  },
  {
   "cell_type": "code",
   "execution_count": 71,
   "id": "5fd1a175-d7f2-4293-a10d-b187f7d29003",
   "metadata": {},
   "outputs": [
    {
     "name": "stdout",
     "output_type": "stream",
     "text": [
      "{'pencils': 3}\n"
     ]
    }
   ],
   "source": [
    "invpr.updateprod('pencils',3)"
   ]
  },
  {
   "cell_type": "code",
   "execution_count": 72,
   "id": "988f542f-3e8f-465e-b05f-7082a1cd28b4",
   "metadata": {},
   "outputs": [
    {
     "name": "stdout",
     "output_type": "stream",
     "text": [
      "{'pencils': 3, 'pens': 3}\n"
     ]
    }
   ],
   "source": [
    "invpr.updateprod('pens',3)"
   ]
  },
  {
   "cell_type": "code",
   "execution_count": 73,
   "id": "596601f3-6791-4fe4-8edf-8001877e7132",
   "metadata": {},
   "outputs": [
    {
     "name": "stdout",
     "output_type": "stream",
     "text": [
      "('pencils', 3)\n",
      "('pens', 3)\n"
     ]
    }
   ],
   "source": [
    "invpr.prod()"
   ]
  },
  {
   "cell_type": "code",
   "execution_count": 34,
   "id": "0a4278cb-84bf-4e03-beef-4b041946caa3",
   "metadata": {},
   "outputs": [],
   "source": [
    "\"\"\"6.Shape Calculation Create a class representing a shape with attributes like length, width, and height. \n",
    "Implement methods to calculate the area and perimeter of the shape.\"\"\"\n",
    "\n",
    "\n",
    "#Defining super class for Shape Caluculation\n",
    "class ShapeCaluculation():\n",
    "    \n",
    "    #Defining methods to caluculate area and perimeter of the shape.\n",
    "    def area(self):\n",
    "        pass\n",
    "    def perimeter(self):\n",
    "        pass\n",
    "    \n",
    "#Defining class for caluculation of area and perimeter of Traingle.\n",
    "class Traingle(ShapeCaluculation):\n",
    "      \n",
    "    #Using init constructor to define the parameters of traingle.\n",
    "    def __init__(self,length,width,side1,side2,side3):\n",
    "       \n",
    "        self.len = length\n",
    "        self.wdt = width\n",
    "        self.s1 = side1\n",
    "        self.s2 = side2\n",
    "        self.s3 = side3\n",
    "    \n",
    "    #Calling area function from superclass and caluculating area of traingle.\n",
    "    def area(self):\n",
    "        return 0.5*self.len*self.wdt\n",
    "    #Calling perimeter function from superclass and caluculating perimeter of traingle.\n",
    "    def perimeter(self):\n",
    "        return (self.s1+self.s2+self.s3)\n",
    "\n",
    "     \n",
    "#Defining class for caluculation of area and perimeter of Rectangle.\n",
    "\n",
    "class Rectangle(ShapeCaluculation):\n",
    "    \n",
    "    #Using init constructor to define the parameters of Rectangle.\n",
    "    def __init__(self,length,width):\n",
    "        self.len = length\n",
    "        self.wdt = width\n",
    "        \n",
    "     #Calling area function from superclass and caluculating area of rectangle.    \n",
    "    def area(self):\n",
    "        return self.len*self.wdt\n",
    "    \n",
    "     #Calling perimeter function from superclass and caluculating perimeter of Rectangle.\n",
    "    def perimeter(self):\n",
    "        return 2*(self.len+self.wdt)\n",
    "\n",
    "#Defining class for caluculation of area and perimeter of circle.\n",
    "\n",
    "class Circle(ShapeCaluculation):\n",
    "    \n",
    "     #Using init constructor to define the parameters of circle.\n",
    "    def __init__(self,radius):    \n",
    "        self.radius = radius\n",
    "    #Calling area function from superclass and caluculating area of Circle.\n",
    "    def area(self):   \n",
    "        return 0.5*3.14*self.radius**2\n",
    "    \n",
    "    #Calling perimeter function from superclass and caluculating perimeter of Circle.\n",
    "    def perimeter(self):\n",
    "        return 2*(3.14*self.radius)\n",
    "         "
   ]
  },
  {
   "cell_type": "code",
   "execution_count": 35,
   "id": "80af1f8c-5343-4a0c-a377-7d4f6a985a21",
   "metadata": {},
   "outputs": [],
   "source": [
    "c = Circle(5)"
   ]
  },
  {
   "cell_type": "code",
   "execution_count": 36,
   "id": "3e29eb3b-6615-4c03-9757-5ecad426f73b",
   "metadata": {},
   "outputs": [
    {
     "name": "stdout",
     "output_type": "stream",
     "text": [
      "Area of circle is  39.25\n"
     ]
    }
   ],
   "source": [
    "A = c.area()\n",
    "print(\"Area of circle is \",A)"
   ]
  },
  {
   "cell_type": "code",
   "execution_count": 38,
   "id": "856bf4d1-084a-434c-93d7-f17cbd2ce1db",
   "metadata": {},
   "outputs": [
    {
     "name": "stdout",
     "output_type": "stream",
     "text": [
      "perimeter of circle is 31.400000000000002\n"
     ]
    }
   ],
   "source": [
    "p = c.perimeter()\n",
    "print(\"perimeter of circle is\",p)"
   ]
  },
  {
   "cell_type": "code",
   "execution_count": 1,
   "id": "8c162d84-338b-451f-bca4-1ce20b4038b0",
   "metadata": {},
   "outputs": [],
   "source": [
    "\"\"\"7:Student Management Create a class representing a student with attributes like student ID, name, and \n",
    "grades. Implement methods to calculate the average grade and display student details..\"\"\"\n",
    "\n",
    "#Create a class representing Student Management \n",
    "class Student():\n",
    "     #defining attributes with init constructor as global variables\n",
    "    def __init__(self,stud_id,name):\n",
    "        \n",
    "        self.id = stud_id\n",
    "        self.name = name\n",
    "\n",
    "#defining class to find grades of students\n",
    "    def avg_grades(self,percentile):\n",
    "    \n",
    "        if 90 <= percentile<= 100:\n",
    "            return 'A'\n",
    "        elif 80 <=percentile <= 89:\n",
    "            return 'B'\n",
    "        elif 70 <=percentile <= 79:\n",
    "            return 'C'\n",
    "        elif 60 <= percentil <= 69:\n",
    "            return 'D'\n",
    "        else:\n",
    "            return 'F'\n",
    "#Defining class to display student details        \n",
    "    def students(self):\n",
    "        print(self.id)\n",
    "        print(self.name)\n",
    "    "
   ]
  },
  {
   "cell_type": "code",
   "execution_count": 4,
   "id": "9ba53eb1-c3d1-4a36-81b0-8622a9dc2ff3",
   "metadata": {},
   "outputs": [
    {
     "data": {
      "text/plain": [
       "'B'"
      ]
     },
     "execution_count": 4,
     "metadata": {},
     "output_type": "execute_result"
    }
   ],
   "source": [
    "s1 = Student(1,'Ramya')\n",
    "s1.avg_grades(85)"
   ]
  },
  {
   "cell_type": "code",
   "execution_count": 5,
   "id": "9002ff5f-9baa-4420-a693-0c4bc732e340",
   "metadata": {},
   "outputs": [
    {
     "name": "stdout",
     "output_type": "stream",
     "text": [
      "1\n",
      "Ramya\n"
     ]
    }
   ],
   "source": [
    "s1.students()"
   ]
  },
  {
   "cell_type": "code",
   "execution_count": 26,
   "id": "339821c1-8ae0-4589-b343-d568d879c525",
   "metadata": {},
   "outputs": [],
   "source": [
    "\"\"\"8.Email Management Create a class representing an email with attributes like sender, recipient, and subject. \n",
    "Implement methods to send an email and display email details.\"\"\"\n",
    "\n",
    "#Defining class to implement Email Management\n",
    "class Email_management():  \n",
    "    def __init__(self,sender,recipient):        \n",
    "        self.sender = sender\n",
    "        self.recipient = recipient\n",
    "        self.subject = \"\"\n",
    "    #defining class to send an email     \n",
    "    def send_email(self,subject):\n",
    "        self.subject = \"From: \" + self.sender +\"\\n\"+ subject\n",
    "        self.subject = self.subject + \"\\n     To: \" + self.recipient \n",
    "        \n",
    "        return self.subject\n",
    "    #defining class to diaplay email details    \n",
    "    def display_email(self):\n",
    "        print(self.subject)        \n",
    "        \n",
    "        "
   ]
  },
  {
   "cell_type": "code",
   "execution_count": 27,
   "id": "b50321c7-0da8-416d-bf91-2b74f46dbe21",
   "metadata": {},
   "outputs": [
    {
     "data": {
      "text/plain": [
       "'From: ramya\\nwelcome email\\n     To: krishna'"
      ]
     },
     "execution_count": 27,
     "metadata": {},
     "output_type": "execute_result"
    }
   ],
   "source": [
    "emailclass = Email_management(\"ramya\",\"krishna\")\n",
    "emailclass.send_email(\"welcome email\")\n"
   ]
  },
  {
   "cell_type": "code",
   "execution_count": 28,
   "id": "0364c39b-5bc9-4446-a052-fee96e1659af",
   "metadata": {},
   "outputs": [
    {
     "name": "stdout",
     "output_type": "stream",
     "text": [
      "From: ramya\n",
      "welcome email\n",
      "     To: krishna\n"
     ]
    }
   ],
   "source": [
    "emailclass.display_email()"
   ]
  },
  {
   "cell_type": "code",
   "execution_count": 2,
   "id": "d219dc85-be4a-41ad-adcd-17a903e287f9",
   "metadata": {},
   "outputs": [],
   "source": [
    "\"\"\"9.Social Media Profile Create a class representing a social media profile with attributes like username and posts. \n",
    "Implement methods to add posts, display posts, and search for posts by keyword\"\"\"\n",
    "\n",
    "\n",
    "##Create a class representing Social Media Profile.\n",
    "class SocialMedia():\n",
    "     #defining attributes with init constructor as global variables.\n",
    "    def __init__(self,user_name):\n",
    "        \n",
    "        self.name = user_name\n",
    "        \n",
    "        self.search = {}\n",
    "#Defining class to add post to the profile.   \n",
    "    def add_post(self,posts,keynum):\n",
    "\n",
    "        if posts not in self.search:\n",
    "            self.search.update({keynum:posts})\n",
    "            print(\"post is added to your profile\")\n",
    "            \n",
    "        else:\n",
    "            print(\"post already exists\")\n",
    "\n",
    "#Defining class to display posts in the social media profile.\n",
    "    def display_posts(self):\n",
    "        print(\"post added is : \",self.search)\n",
    "\n",
    "#Defining class to serach post in the social media profile\n",
    "    def search_post(self,keyword):\n",
    "        dict_key  = list(self.search.keys())[list(self.search.values()).index(keyword)]\n",
    "        if dict_key:\n",
    "        \n",
    "            print(\"post searched is : \", self.search[dict_key])\n"
   ]
  },
  {
   "cell_type": "code",
   "execution_count": 3,
   "id": "88e61f6c-7e27-46bc-b318-4344c54a1d82",
   "metadata": {},
   "outputs": [],
   "source": [
    "SM = SocialMedia('Naveen')"
   ]
  },
  {
   "cell_type": "code",
   "execution_count": 4,
   "id": "c3598a84-94a3-443d-9283-90640e673b42",
   "metadata": {},
   "outputs": [
    {
     "name": "stdout",
     "output_type": "stream",
     "text": [
      "post is added to your profile\n"
     ]
    }
   ],
   "source": [
    "SM.add_post('vacation pic',1)"
   ]
  },
  {
   "cell_type": "code",
   "execution_count": 5,
   "id": "eb13015b-ad79-45b3-bb94-075c0d4b3cb9",
   "metadata": {},
   "outputs": [
    {
     "name": "stdout",
     "output_type": "stream",
     "text": [
      "post added is :  {1: 'vacation pic'}\n"
     ]
    }
   ],
   "source": [
    "SM.display_posts()"
   ]
  },
  {
   "cell_type": "code",
   "execution_count": 6,
   "id": "e5d57107-0826-4e31-95fd-19401d59e2d8",
   "metadata": {},
   "outputs": [
    {
     "name": "stdout",
     "output_type": "stream",
     "text": [
      "post is added to your profile\n",
      "post added is :  {1: 'vacation pic', 2: 'new house'}\n"
     ]
    }
   ],
   "source": [
    "SM.add_post('new house',2)\n",
    "SM.display_posts()"
   ]
  },
  {
   "cell_type": "code",
   "execution_count": 7,
   "id": "072ab1d2-0502-40d7-bb26-e1a44d462fc8",
   "metadata": {},
   "outputs": [
    {
     "name": "stdout",
     "output_type": "stream",
     "text": [
      "post searched is :  new house\n"
     ]
    }
   ],
   "source": [
    "SM.search_post('new house')"
   ]
  },
  {
   "cell_type": "code",
   "execution_count": 65,
   "id": "53c92e5a-6dcc-44f7-a780-3dcdfe8293f1",
   "metadata": {},
   "outputs": [],
   "source": [
    "\"\"\"10.ToDo List Create a class representing a ToDo list with attributes like tasks and due dates. Implement\n",
    "methods to add tasks,mark tasks as completed, and display pending tasks.\"\"\"\n",
    "\n",
    "#Defining class to represent ToDo List.\n",
    "class ToDo_List():\n",
    "    #defining attributes with init constructor as global variables.\n",
    "    def __init__(self):\n",
    "        self.tasks =[]\n",
    "        \n",
    "#Defining class to add the tasks to the list.  \n",
    "    def add_tasks(self,task):\n",
    "        self.task = task\n",
    "        self.due_dates = '30-0ct -2023'\n",
    "        if task not in self.tasks:\n",
    "            self.tasks.append(task)\n",
    "            print(self.tasks)\n",
    "        else :\n",
    "            print(\"task already added to the to do list\")\n",
    "\n",
    "#Defining class to mark the task is completed or pending.\n",
    "    def mark_task(self,task,task_status):\n",
    "        self.status = task_status\n",
    "        self.task = task\n",
    "        if self.status == 'Y':            \n",
    "            self.tasks.remove(self.task)\n",
    "            print(self.tasks)\n",
    "        else :\n",
    "            print(self.task,',Task is pending and complete it by 30-oct-2023')\n",
    "            "
   ]
  },
  {
   "cell_type": "code",
   "execution_count": 66,
   "id": "48c5ed6e-69a4-4531-be8e-9d90818298a2",
   "metadata": {},
   "outputs": [],
   "source": [
    "tdl = ToDo_List()"
   ]
  },
  {
   "cell_type": "code",
   "execution_count": 67,
   "id": "54fefb6c-c980-4029-9287-8dc0d939aea8",
   "metadata": {},
   "outputs": [
    {
     "name": "stdout",
     "output_type": "stream",
     "text": [
      "['Attend Class']\n"
     ]
    }
   ],
   "source": [
    "tdl.add_tasks(\"Attend Class\")"
   ]
  },
  {
   "cell_type": "code",
   "execution_count": 68,
   "id": "9cd3b306-3265-48d3-afcc-95ffecb16020",
   "metadata": {},
   "outputs": [
    {
     "name": "stdout",
     "output_type": "stream",
     "text": [
      "['Attend Class', 'complete assignment']\n"
     ]
    }
   ],
   "source": [
    "tdl.add_tasks(\"complete assignment\")"
   ]
  },
  {
   "cell_type": "code",
   "execution_count": 69,
   "id": "2eeb3e08-ab83-4243-82e1-fa6b80b1114a",
   "metadata": {},
   "outputs": [
    {
     "name": "stdout",
     "output_type": "stream",
     "text": [
      "Attend Class ,Task is pending and complete it by 30-oct-2023\n"
     ]
    }
   ],
   "source": [
    "tdl.mark_task('Attend Class','n')"
   ]
  },
  {
   "cell_type": "code",
   "execution_count": 70,
   "id": "e23b8e6d-3655-4543-9a3e-77bb32d5af52",
   "metadata": {},
   "outputs": [
    {
     "name": "stdout",
     "output_type": "stream",
     "text": [
      "['complete assignment']\n"
     ]
    }
   ],
   "source": [
    "tdl.mark_task(\"Attend Class\",\"Y\")"
   ]
  },
  {
   "cell_type": "code",
   "execution_count": 71,
   "id": "e406497d-f2c7-4dd2-b437-30f99d6e5cf2",
   "metadata": {},
   "outputs": [
    {
     "name": "stdout",
     "output_type": "stream",
     "text": [
      "[]\n"
     ]
    }
   ],
   "source": [
    "tdl.mark_task(\"complete assignment\",\"Y\")"
   ]
  },
  {
   "cell_type": "code",
   "execution_count": null,
   "id": "5871593a-7c6a-4a7f-8a6a-9127cd9ea7ac",
   "metadata": {},
   "outputs": [],
   "source": []
  }
 ],
 "metadata": {
  "kernelspec": {
   "display_name": "Python 3 (ipykernel)",
   "language": "python",
   "name": "python3"
  },
  "language_info": {
   "codemirror_mode": {
    "name": "ipython",
    "version": 3
   },
   "file_extension": ".py",
   "mimetype": "text/x-python",
   "name": "python",
   "nbconvert_exporter": "python",
   "pygments_lexer": "ipython3",
   "version": "3.10.8"
  }
 },
 "nbformat": 4,
 "nbformat_minor": 5
}
